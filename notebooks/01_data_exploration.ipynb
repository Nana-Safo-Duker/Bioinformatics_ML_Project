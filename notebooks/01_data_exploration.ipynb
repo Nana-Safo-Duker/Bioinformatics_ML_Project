{
  "cells": [
    {
      "cell_type": "markdown",
      "metadata": {},
      "source": [
        "# Exploratory Data Analysis - Clinical Dataset\n",
        "\n",
        "**Author:** [Your Name]  \n",
        "**Date:** October 27, 2025  \n",
        "**Purpose:** Initial exploration of clinical data for ML-based diagnosis\n",
        "\n",
        "## Objective\n",
        "\n",
        "This notebook performs exploratory data analysis (EDA) on clinical data to:\n",
        "1. Understand data structure and quality\n",
        "2. Identify missing values and outliers\n",
        "3. Visualize distributions and relationships\n",
        "4. Generate insights for feature engineering\n"
      ]
    },
    {
      "cell_type": "markdown",
      "metadata": {},
      "source": [
        "## 1. Setup and Import Libraries\n"
      ]
    },
    {
      "cell_type": "code",
      "execution_count": null,
      "metadata": {},
      "outputs": [],
      "source": [
        "# Data manipulation\n",
        "import numpy as np\n",
        "import pandas as pd\n",
        "\n",
        "# Visualization\n",
        "import matplotlib.pyplot as plt\n",
        "import seaborn as sns\n",
        "\n",
        "# Statistical analysis\n",
        "from scipy import stats\n",
        "from scipy.stats import chi2_contingency, ttest_ind\n",
        "\n",
        "# Warnings\n",
        "import warnings\n",
        "warnings.filterwarnings('ignore')\n",
        "\n",
        "# Set style\n",
        "plt.style.use('seaborn-v0_8-darkgrid')\n",
        "sns.set_palette('husl')\n",
        "\n",
        "# Display settings\n",
        "pd.set_option('display.max_columns', None)\n",
        "pd.set_option('display.max_rows', 100)\n",
        "\n",
        "# Random seed for reproducibility\n",
        "np.random.seed(42)\n",
        "\n",
        "print(\"Libraries imported successfully!\")\n",
        "print(f\"NumPy version: {np.__version__}\")\n",
        "print(f\"Pandas version: {pd.__version__}\")\n"
      ]
    },
    {
      "cell_type": "markdown",
      "metadata": {},
      "source": [
        "## 2. Load Data\n",
        "\n",
        "Load the clinical dataset and perform initial inspection.\n"
      ]
    },
    {
      "cell_type": "code",
      "execution_count": null,
      "metadata": {},
      "outputs": [],
      "source": [
        "# Generate synthetic clinical data for demonstration\n",
        "# In practice, load from: df = pd.read_csv('../data/raw/clinical_data.csv')\n",
        "\n",
        "np.random.seed(42)\n",
        "n_samples = 1000\n",
        "\n",
        "# Generate synthetic data\n",
        "data = {\n",
        "    'patient_id': [f'PT{str(i).zfill(4)}' for i in range(1, n_samples + 1)],\n",
        "    'age': np.random.randint(18, 85, n_samples),\n",
        "    'gender': np.random.choice(['M', 'F'], n_samples),\n",
        "    'bmi': np.random.normal(27, 5, n_samples),\n",
        "    'blood_pressure_sys': np.random.normal(130, 20, n_samples),\n",
        "    'blood_pressure_dia': np.random.normal(85, 12, n_samples),\n",
        "    'glucose': np.random.normal(100, 25, n_samples),\n",
        "    'cholesterol': np.random.normal(200, 40, n_samples),\n",
        "    'heart_rate': np.random.normal(75, 10, n_samples),\n",
        "    'biomarker_a': np.random.gamma(2, 2, n_samples),\n",
        "    'biomarker_b': np.random.exponential(1.5, n_samples),\n",
        "    'diagnosis': np.random.choice([0, 1], n_samples, p=[0.7, 0.3])\n",
        "}\n",
        "\n",
        "df = pd.DataFrame(data)\n",
        "\n",
        "# Introduce some missing values\n",
        "missing_indices = np.random.choice(df.index, size=50, replace=False)\n",
        "df.loc[missing_indices, 'biomarker_a'] = np.nan\n",
        "\n",
        "print(f\"Data loaded successfully!\")\n",
        "print(f\"Shape: {df.shape}\")\n",
        "print(f\"\\nFirst few rows:\")\n",
        "df.head()\n"
      ]
    },
    {
      "cell_type": "markdown",
      "metadata": {},
      "source": [
        "## 3. Data Overview and Statistical Summary\n",
        "\n",
        "Examine the structure, data types, and descriptive statistics of the dataset.\n"
      ]
    },
    {
      "cell_type": "code",
      "execution_count": null,
      "metadata": {},
      "outputs": [],
      "source": [
        "# Basic information\n",
        "print(\"=\" * 50)\n",
        "print(\"DATASET INFORMATION\")\n",
        "print(\"=\" * 50)\n",
        "df.info()\n",
        "\n",
        "print(\"\\n\" + \"=\" * 50)\n",
        "print(\"STATISTICAL SUMMARY\")\n",
        "print(\"=\" * 50)\n",
        "df.describe()\n",
        "\n",
        "print(\"\\n\" + \"=\" * 50)\n",
        "print(\"MISSING VALUES ANALYSIS\")\n",
        "print(\"=\" * 50)\n",
        "\n",
        "missing_data = pd.DataFrame({\n",
        "    'Column': df.columns,\n",
        "    'Missing Count': df.isnull().sum(),\n",
        "    'Missing Percentage': (df.isnull().sum() / len(df) * 100).round(2)\n",
        "})\n",
        "\n",
        "missing_data = missing_data[missing_data['Missing Count'] > 0].sort_values(\n",
        "    'Missing Count', ascending=False\n",
        ")\n",
        "\n",
        "if len(missing_data) > 0:\n",
        "    print(missing_data)\n",
        "else:\n",
        "    print(\"No missing values found!\")\n"
      ]
    },
    {
      "cell_type": "markdown",
      "metadata": {},
      "source": [
        "## 4. Visualization: Distribution of Target Variable\n"
      ]
    },
    {
      "cell_type": "code",
      "execution_count": null,
      "metadata": {},
      "outputs": [],
      "source": [
        "# Distribution of target variable\n",
        "fig, axes = plt.subplots(1, 2, figsize=(14, 5))\n",
        "\n",
        "# Count plot\n",
        "diagnosis_counts = df['diagnosis'].value_counts()\n",
        "axes[0].bar(['Negative', 'Positive'], diagnosis_counts.values, color=['#2ecc71', '#e74c3c'])\n",
        "axes[0].set_ylabel('Count')\n",
        "axes[0].set_title('Distribution of Diagnosis', fontsize=14, fontweight='bold')\n",
        "axes[0].grid(axis='y', alpha=0.3)\n",
        "\n",
        "# Add counts on bars\n",
        "for i, v in enumerate(diagnosis_counts.values):\n",
        "    axes[0].text(i, v + 10, str(v), ha='center', fontweight='bold')\n",
        "\n",
        "# Pie chart\n",
        "axes[1].pie(diagnosis_counts.values, labels=['Negative', 'Positive'], \n",
        "            autopct='%1.1f%%', colors=['#2ecc71', '#e74c3c'],\n",
        "            startangle=90, textprops={'fontsize': 12, 'fontweight': 'bold'})\n",
        "axes[1].set_title('Diagnosis Proportion', fontsize=14, fontweight='bold')\n",
        "\n",
        "plt.tight_layout()\n",
        "plt.show()\n",
        "\n",
        "print(f\"Class imbalance ratio: {diagnosis_counts[0]/diagnosis_counts[1]:.2f}:1\")\n"
      ]
    }
  ],
  "metadata": {
    "kernelspec": {
      "display_name": "myenv",
      "language": "python",
      "name": "python3"
    },
    "language_info": {
      "name": "python",
      "version": "3.8.20"
    }
  },
  "nbformat": 4,
  "nbformat_minor": 2
}
