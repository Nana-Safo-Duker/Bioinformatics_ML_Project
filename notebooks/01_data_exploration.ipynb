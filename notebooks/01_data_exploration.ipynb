{
  "cells": [
    {
      "cell_type": "markdown",
      "metadata": {},
      "source": [
        "# Exploratory Data Analysis - Clinical Dataset\n",
        "\n",
        "**Author:** [Your Name]  \n",
        "**Date:** October 27, 2025  \n",
        "**Purpose:** Initial exploration of clinical data for ML-based diagnosis\n",
        "\n",
        "## Objective\n",
        "\n",
        "This notebook performs exploratory data analysis (EDA) on clinical data to:\n",
        "1. Understand data structure and quality\n",
        "2. Identify missing values and outliers\n",
        "3. Visualize distributions and relationships\n",
        "4. Generate insights for feature engineering\n"
      ]
    },
    {
      "cell_type": "markdown",
      "metadata": {},
      "source": [
        "## 1. Setup and Import Libraries\n"
      ]
    },
    {
      "cell_type": "code",
      "execution_count": null,
      "metadata": {},
      "outputs": [
        {
          "name": "stdout",
          "output_type": "stream",
          "text": [
            "Libraries imported successfully!\n",
            "NumPy version: 1.26.4\n",
            "Pandas version: 2.2.2\n"
          ]
        }
      ],
      "source": [
        "# Data manipulation\n",
        "import numpy as np\n",
        "import pandas as pd\n",
        "\n",
        "# Visualization\n",
        "import matplotlib.pyplot as plt\n",
        "import seaborn as sns\n",
        "\n",
        "# Statistical analysis\n",
        "from scipy import stats\n",
        "from scipy.stats import chi2_contingency, ttest_ind\n",
        "\n",
        "# Warnings\n",
        "import warnings\n",
        "warnings.filterwarnings('ignore')\n",
        "\n",
        "# Set style\n",
        "plt.style.use('seaborn-v0_8-darkgrid')\n",
        "sns.set_palette('husl')\n",
        "\n",
        "# Display settings\n",
        "pd.set_option('display.max_columns', None)\n",
        "pd.set_option('display.max_rows', 100)\n",
        "\n",
        "# Random seed for reproducibility\n",
        "np.random.seed(42)\n",
        "\n",
        "print(\"Libraries imported successfully!\")\n",
        "print(f\"NumPy version: {np.__version__}\")\n",
        "print(f\"Pandas version: {pd.__version__}\")\n"
      ]
    },
    {
      "cell_type": "markdown",
      "metadata": {},
      "source": [
        "## 2. Load Data\n",
        "\n",
        "Load the clinical dataset and perform initial inspection.\n"
      ]
    },
    {
      "cell_type": "code",
      "execution_count": null,
      "metadata": {},
      "outputs": [
        {
          "name": "stdout",
          "output_type": "stream",
          "text": [
            "Data loaded successfully!\n",
            "Shape: (1000, 12)\n",
            "\n",
            "First few rows:\n"
          ]
        },
        {
          "data": {
            "text/html": [
              "<div>\n",
              "<style scoped>\n",
              "    .dataframe tbody tr th:only-of-type {\n",
              "        vertical-align: middle;\n",
              "    }\n",
              "\n",
              "    .dataframe tbody tr th {\n",
              "        vertical-align: top;\n",
              "    }\n",
              "\n",
              "    .dataframe thead th {\n",
              "        text-align: right;\n",
              "    }\n",
              "</style>\n",
              "<table border=\"1\" class=\"dataframe\">\n",
              "  <thead>\n",
              "    <tr style=\"text-align: right;\">\n",
              "      <th></th>\n",
              "      <th>patient_id</th>\n",
              "      <th>age</th>\n",
              "      <th>gender</th>\n",
              "      <th>bmi</th>\n",
              "      <th>blood_pressure_sys</th>\n",
              "      <th>blood_pressure_dia</th>\n",
              "      <th>glucose</th>\n",
              "      <th>cholesterol</th>\n",
              "      <th>heart_rate</th>\n",
              "      <th>biomarker_a</th>\n",
              "      <th>biomarker_b</th>\n",
              "      <th>diagnosis</th>\n",
              "    </tr>\n",
              "  </thead>\n",
              "  <tbody>\n",
              "    <tr>\n",
              "      <th>0</th>\n",
              "      <td>PT0001</td>\n",
              "      <td>69</td>\n",
              "      <td>M</td>\n",
              "      <td>32.540914</td>\n",
              "      <td>106.211762</td>\n",
              "      <td>76.244770</td>\n",
              "      <td>98.434011</td>\n",
              "      <td>216.009434</td>\n",
              "      <td>66.046456</td>\n",
              "      <td>5.250199</td>\n",
              "      <td>0.071735</td>\n",
              "      <td>0</td>\n",
              "    </tr>\n",
              "    <tr>\n",
              "      <th>1</th>\n",
              "      <td>PT0002</td>\n",
              "      <td>32</td>\n",
              "      <td>F</td>\n",
              "      <td>21.800470</td>\n",
              "      <td>162.853459</td>\n",
              "      <td>89.337008</td>\n",
              "      <td>106.078086</td>\n",
              "      <td>208.066116</td>\n",
              "      <td>85.628537</td>\n",
              "      <td>2.429307</td>\n",
              "      <td>4.355785</td>\n",
              "      <td>0</td>\n",
              "    </tr>\n",
              "    <tr>\n",
              "      <th>2</th>\n",
              "      <td>PT0003</td>\n",
              "      <td>78</td>\n",
              "      <td>F</td>\n",
              "      <td>30.063870</td>\n",
              "      <td>111.987585</td>\n",
              "      <td>69.482301</td>\n",
              "      <td>92.643937</td>\n",
              "      <td>158.801109</td>\n",
              "      <td>98.378277</td>\n",
              "      <td>0.195789</td>\n",
              "      <td>0.564738</td>\n",
              "      <td>1</td>\n",
              "    </tr>\n",
              "    <tr>\n",
              "      <th>3</th>\n",
              "      <td>PT0004</td>\n",
              "      <td>38</td>\n",
              "      <td>F</td>\n",
              "      <td>21.732922</td>\n",
              "      <td>142.767839</td>\n",
              "      <td>91.868684</td>\n",
              "      <td>133.914585</td>\n",
              "      <td>201.843169</td>\n",
              "      <td>66.392432</td>\n",
              "      <td>4.332741</td>\n",
              "      <td>0.876679</td>\n",
              "      <td>1</td>\n",
              "    </tr>\n",
              "    <tr>\n",
              "      <th>4</th>\n",
              "      <td>PT0005</td>\n",
              "      <td>41</td>\n",
              "      <td>M</td>\n",
              "      <td>23.881155</td>\n",
              "      <td>123.427630</td>\n",
              "      <td>90.407241</td>\n",
              "      <td>94.991186</td>\n",
              "      <td>157.052454</td>\n",
              "      <td>80.342079</td>\n",
              "      <td>8.007653</td>\n",
              "      <td>0.182641</td>\n",
              "      <td>0</td>\n",
              "    </tr>\n",
              "  </tbody>\n",
              "</table>\n",
              "</div>"
            ],
            "text/plain": [
              "  patient_id  age gender        bmi  blood_pressure_sys  blood_pressure_dia  \\\n",
              "0     PT0001   69      M  32.540914          106.211762           76.244770   \n",
              "1     PT0002   32      F  21.800470          162.853459           89.337008   \n",
              "2     PT0003   78      F  30.063870          111.987585           69.482301   \n",
              "3     PT0004   38      F  21.732922          142.767839           91.868684   \n",
              "4     PT0005   41      M  23.881155          123.427630           90.407241   \n",
              "\n",
              "      glucose  cholesterol  heart_rate  biomarker_a  biomarker_b  diagnosis  \n",
              "0   98.434011   216.009434   66.046456     5.250199     0.071735          0  \n",
              "1  106.078086   208.066116   85.628537     2.429307     4.355785          0  \n",
              "2   92.643937   158.801109   98.378277     0.195789     0.564738          1  \n",
              "3  133.914585   201.843169   66.392432     4.332741     0.876679          1  \n",
              "4   94.991186   157.052454   80.342079     8.007653     0.182641          0  "
            ]
          },
          "execution_count": 2,
          "metadata": {},
          "output_type": "execute_result"
        }
      ],
      "source": [
        "# Generate synthetic clinical data for demonstration\n",
        "# In practice, load from: df = pd.read_csv('../data/raw/clinical_data.csv')\n",
        "\n",
        "np.random.seed(42)\n",
        "n_samples = 1000\n",
        "\n",
        "# Generate synthetic data\n",
        "data = {\n",
        "    'patient_id': [f'PT{str(i).zfill(4)}' for i in range(1, n_samples + 1)],\n",
        "    'age': np.random.randint(18, 85, n_samples),\n",
        "    'gender': np.random.choice(['M', 'F'], n_samples),\n",
        "    'bmi': np.random.normal(27, 5, n_samples),\n",
        "    'blood_pressure_sys': np.random.normal(130, 20, n_samples),\n",
        "    'blood_pressure_dia': np.random.normal(85, 12, n_samples),\n",
        "    'glucose': np.random.normal(100, 25, n_samples),\n",
        "    'cholesterol': np.random.normal(200, 40, n_samples),\n",
        "    'heart_rate': np.random.normal(75, 10, n_samples),\n",
        "    'biomarker_a': np.random.gamma(2, 2, n_samples),\n",
        "    'biomarker_b': np.random.exponential(1.5, n_samples),\n",
        "    'diagnosis': np.random.choice([0, 1], n_samples, p=[0.7, 0.3])\n",
        "}\n",
        "\n",
        "df = pd.DataFrame(data)\n",
        "\n",
        "# Introduce some missing values\n",
        "missing_indices = np.random.choice(df.index, size=50, replace=False)\n",
        "df.loc[missing_indices, 'biomarker_a'] = np.nan\n",
        "\n",
        "print(f\"Data loaded successfully!\")\n",
        "print(f\"Shape: {df.shape}\")\n",
        "print(f\"\\nFirst few rows:\")\n",
        "df.head()\n"
      ]
    },
    {
      "cell_type": "markdown",
      "metadata": {},
      "source": [
        "## 3. Data Overview and Statistical Summary\n",
        "\n",
        "Examine the structure, data types, and descriptive statistics of the dataset.\n"
      ]
    },
    {
      "cell_type": "code",
      "execution_count": null,
      "metadata": {},
      "outputs": [
        {
          "name": "stdout",
          "output_type": "stream",
          "text": [
            "==================================================\n",
            "DATASET INFORMATION\n",
            "==================================================\n",
            "<class 'pandas.core.frame.DataFrame'>\n",
            "RangeIndex: 1000 entries, 0 to 999\n",
            "Data columns (total 12 columns):\n",
            " #   Column              Non-Null Count  Dtype  \n",
            "---  ------              --------------  -----  \n",
            " 0   patient_id          1000 non-null   object \n",
            " 1   age                 1000 non-null   int32  \n",
            " 2   gender              1000 non-null   object \n",
            " 3   bmi                 1000 non-null   float64\n",
            " 4   blood_pressure_sys  1000 non-null   float64\n",
            " 5   blood_pressure_dia  1000 non-null   float64\n",
            " 6   glucose             1000 non-null   float64\n",
            " 7   cholesterol         1000 non-null   float64\n",
            " 8   heart_rate          1000 non-null   float64\n",
            " 9   biomarker_a         950 non-null    float64\n",
            " 10  biomarker_b         1000 non-null   float64\n",
            " 11  diagnosis           1000 non-null   int32  \n",
            "dtypes: float64(8), int32(2), object(2)\n",
            "memory usage: 86.1+ KB\n",
            "\n",
            "==================================================\n",
            "STATISTICAL SUMMARY\n",
            "==================================================\n",
            "\n",
            "==================================================\n",
            "MISSING VALUES ANALYSIS\n",
            "==================================================\n",
            "                  Column  Missing Count  Missing Percentage\n",
            "biomarker_a  biomarker_a             50                 5.0\n"
          ]
        }
      ],
      "source": [
        "# Basic information\n",
        "print(\"=\" * 50)\n",
        "print(\"DATASET INFORMATION\")\n",
        "print(\"=\" * 50)\n",
        "df.info()\n",
        "\n",
        "print(\"\\n\" + \"=\" * 50)\n",
        "print(\"STATISTICAL SUMMARY\")\n",
        "print(\"=\" * 50)\n",
        "df.describe()\n",
        "\n",
        "print(\"\\n\" + \"=\" * 50)\n",
        "print(\"MISSING VALUES ANALYSIS\")\n",
        "print(\"=\" * 50)\n",
        "\n",
        "missing_data = pd.DataFrame({\n",
        "    'Column': df.columns,\n",
        "    'Missing Count': df.isnull().sum(),\n",
        "    'Missing Percentage': (df.isnull().sum() / len(df) * 100).round(2)\n",
        "})\n",
        "\n",
        "missing_data = missing_data[missing_data['Missing Count'] > 0].sort_values(\n",
        "    'Missing Count', ascending=False\n",
        ")\n",
        "\n",
        "if len(missing_data) > 0:\n",
        "    print(missing_data)\n",
        "else:\n",
        "    print(\"No missing values found!\")\n"
      ]
    },
    {
      "cell_type": "markdown",
      "metadata": {},
      "source": [
        "## 4. Visualization: Distribution of Target Variable\n"
      ]
    },
    {
      "cell_type": "code",
      "execution_count": null,
      "metadata": {},
      "outputs": [
        {
          "data": {
            "image/png": "[encoded data removed]",
            "text/plain": [
              "<Figure size 1400x500 with 2 Axes>"
            ]
          },
          "metadata": {},
          "output_type": "display_data"
        },
        {
          "name": "stdout",
          "output_type": "stream",
          "text": [
            "Class imbalance ratio: 2.48:1\n"
          ]
        }
      ],
      "source": [
        "# Distribution of target variable\n",
        "fig, axes = plt.subplots(1, 2, figsize=(14, 5))\n",
        "\n",
        "# Count plot\n",
        "diagnosis_counts = df['diagnosis'].value_counts()\n",
        "axes[0].bar(['Negative', 'Positive'], diagnosis_counts.values, color=['#2ecc71', '#e74c3c'])\n",
        "axes[0].set_ylabel('Count')\n",
        "axes[0].set_title('Distribution of Diagnosis', fontsize=14, fontweight='bold')\n",
        "axes[0].grid(axis='y', alpha=0.3)\n",
        "\n",
        "# Add counts on bars\n",
        "for i, v in enumerate(diagnosis_counts.values):\n",
        "    axes[0].text(i, v + 10, str(v), ha='center', fontweight='bold')\n",
        "\n",
        "# Pie chart\n",
        "axes[1].pie(diagnosis_counts.values, labels=['Negative', 'Positive'], \n",
        "            autopct='%1.1f%%', colors=['#2ecc71', '#e74c3c'],\n",
        "            startangle=90, textprops={'fontsize': 12, 'fontweight': 'bold'})\n",
        "axes[1].set_title('Diagnosis Proportion', fontsize=14, fontweight='bold')\n",
        "\n",
        "plt.tight_layout()\n",
        "plt.show()\n",
        "\n",
        "print(f\"Class imbalance ratio: {diagnosis_counts[0]/diagnosis_counts[1]:.2f}:1\")\n"
      ]
    }
  ],
  "metadata": {
    "kernelspec": {
      "display_name": "base",
      "language": "python",
      "name": "python3"
    },
    "language_info": {
      "codemirror_mode": {
        "name": "ipython",
        "version": 3
      },
      "file_extension": ".py",
      "mimetype": "text/x-python",
      "name": "python",
      "nbconvert_exporter": "python",
      "pygments_lexer": "ipython3",
      "version": "3.12.3"
    }
  },
  "nbformat": 4,
  "nbformat_minor": 2
}
